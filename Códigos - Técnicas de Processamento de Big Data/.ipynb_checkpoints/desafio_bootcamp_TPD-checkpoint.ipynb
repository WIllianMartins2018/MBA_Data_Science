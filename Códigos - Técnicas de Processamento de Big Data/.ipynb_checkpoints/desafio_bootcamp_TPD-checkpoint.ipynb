{
 "cells": [
  {
   "cell_type": "code",
   "execution_count": 1,
   "metadata": {},
   "outputs": [],
   "source": [
    "#código para o desafio do bootcamp de TPD"
   ]
  },
  {
   "cell_type": "markdown",
   "metadata": {},
   "source": [
    "1) Primeiro passo - Seção Spark"
   ]
  },
  {
   "cell_type": "code",
   "execution_count": 1,
   "metadata": {},
   "outputs": [],
   "source": [
    "from pyspark.sql import SparkSession #importa a biblioteca que cria a seção do spark"
   ]
  },
  {
   "cell_type": "code",
   "execution_count": 2,
   "metadata": {},
   "outputs": [],
   "source": [
    "#inicia a seção para a utilização do spark\n",
    "spark = SparkSession.builder.appName(\"desafio_tpd\").getOrCreate() #cria a seção caso não exista ou obtém a já criada"
   ]
  },
  {
   "cell_type": "code",
   "execution_count": 27,
   "metadata": {},
   "outputs": [],
   "source": [
    "diretorioDatasetDiabets=\"Mall_Customers.csv\"  #diretório que contém o arquivo a ser utilizado"
   ]
  },
  {
   "cell_type": "code",
   "execution_count": 28,
   "metadata": {},
   "outputs": [],
   "source": [
    "data = spark.read.format(\"csv\").options(header=\"true\", inferschema=\"true\").load(diretorioDatasetDiabets)  #realiza a leitura do dataset"
   ]
  },
  {
   "cell_type": "code",
   "execution_count": 5,
   "metadata": {},
   "outputs": [
    {
     "name": "stdout",
     "output_type": "stream",
     "text": [
      "+----------+------+---+------------------+----------------------+\n",
      "|CustomerID|Genre |Age|Annual Income (k$)|Spending Score (1-100)|\n",
      "+----------+------+---+------------------+----------------------+\n",
      "|1         |Male  |19 |15                |39                    |\n",
      "|2         |Male  |21 |15                |81                    |\n",
      "|3         |Female|20 |16                |6                     |\n",
      "|4         |Female|23 |16                |77                    |\n",
      "|5         |Female|31 |17                |40                    |\n",
      "+----------+------+---+------------------+----------------------+\n",
      "only showing top 5 rows\n",
      "\n"
     ]
    }
   ],
   "source": [
    "data.show(5,False)  #mostrando as 5 primeiras instâncias do dataset"
   ]
  },
  {
   "cell_type": "code",
   "execution_count": 6,
   "metadata": {},
   "outputs": [
    {
     "data": {
      "text/plain": [
       "['CustomerID', 'Genre', 'Age', 'Annual Income (k$)', 'Spending Score (1-100)']"
      ]
     },
     "execution_count": 6,
     "metadata": {},
     "output_type": "execute_result"
    }
   ],
   "source": [
    "data.columns #mostra as colunas do dataset"
   ]
  },
  {
   "cell_type": "code",
   "execution_count": 7,
   "metadata": {},
   "outputs": [
    {
     "name": "stdout",
     "output_type": "stream",
     "text": [
      "root\n",
      " |-- CustomerID: integer (nullable = true)\n",
      " |-- Genre: string (nullable = true)\n",
      " |-- Age: integer (nullable = true)\n",
      " |-- Annual Income (k$): integer (nullable = true)\n",
      " |-- Spending Score (1-100): integer (nullable = true)\n",
      "\n"
     ]
    }
   ],
   "source": [
    "data.printSchema()  #mostra o esquema inferido pelas variáveis"
   ]
  },
  {
   "cell_type": "code",
   "execution_count": 8,
   "metadata": {},
   "outputs": [
    {
     "data": {
      "text/plain": [
       "200"
      ]
     },
     "execution_count": 8,
     "metadata": {},
     "output_type": "execute_result"
    }
   ],
   "source": [
    "data.count()  #conta a quantidade de registros"
   ]
  },
  {
   "cell_type": "code",
   "execution_count": 9,
   "metadata": {},
   "outputs": [
    {
     "name": "stdout",
     "output_type": "stream",
     "text": [
      "+----------+-----+---+------------------+----------------------+\n",
      "|CustomerID|Genre|Age|Annual Income (k$)|Spending Score (1-100)|\n",
      "+----------+-----+---+------------------+----------------------+\n",
      "|         0|    0|  0|                 0|                     0|\n",
      "+----------+-----+---+------------------+----------------------+\n",
      "\n"
     ]
    }
   ],
   "source": [
    "#verificando a existência ou não de valores nulos\n",
    "from pyspark.sql.functions import isnan, when, count, col\n",
    "\n",
    "data.select([count(when(isnan(c), c)).alias(c) for c in data.columns]).show()"
   ]
  },
  {
   "cell_type": "code",
   "execution_count": 10,
   "metadata": {},
   "outputs": [
    {
     "name": "stdout",
     "output_type": "stream",
     "text": [
      "+-------+------------------+------+-----------------+------------------+----------------------+\n",
      "|summary|        CustomerID| Genre|              Age|Annual Income (k$)|Spending Score (1-100)|\n",
      "+-------+------------------+------+-----------------+------------------+----------------------+\n",
      "|  count|               200|   200|              200|               200|                   200|\n",
      "|   mean|             100.5|  null|            38.85|             60.56|                  50.2|\n",
      "| stddev|57.879184513951124|  null|13.96900733155888| 26.26472116527124|    25.823521668370173|\n",
      "|    min|                 1|Female|               18|                15|                     1|\n",
      "|    max|               200|  Male|               70|               137|                    99|\n",
      "+-------+------------------+------+-----------------+------------------+----------------------+\n",
      "\n"
     ]
    }
   ],
   "source": [
    "data.describe().show() #mostrando as estatísticas do dataset"
   ]
  },
  {
   "cell_type": "markdown",
   "metadata": {},
   "source": [
    "Verificando se existem outliers (anomalias) nos dados. Para isso, será utilizado o boxplot."
   ]
  },
  {
   "cell_type": "code",
   "execution_count": 11,
   "metadata": {},
   "outputs": [
    {
     "name": "stdout",
     "output_type": "stream",
     "text": [
      "+---+------------------+----------------------+\n",
      "|Age|Annual Income (k$)|Spending Score (1-100)|\n",
      "+---+------------------+----------------------+\n",
      "| 19|                15|                    39|\n",
      "| 21|                15|                    81|\n",
      "| 20|                16|                     6|\n",
      "| 23|                16|                    77|\n",
      "| 31|                17|                    40|\n",
      "| 22|                17|                    76|\n",
      "| 35|                18|                     6|\n",
      "| 23|                18|                    94|\n",
      "| 64|                19|                     3|\n",
      "| 30|                19|                    72|\n",
      "| 67|                19|                    14|\n",
      "| 35|                19|                    99|\n",
      "| 58|                20|                    15|\n",
      "| 24|                20|                    77|\n",
      "| 37|                20|                    13|\n",
      "| 22|                20|                    79|\n",
      "| 35|                21|                    35|\n",
      "| 20|                21|                    66|\n",
      "| 52|                23|                    29|\n",
      "| 35|                23|                    98|\n",
      "+---+------------------+----------------------+\n",
      "only showing top 20 rows\n",
      "\n"
     ]
    }
   ],
   "source": [
    "#selecionando apenas algumas colunas\n",
    "data_outliers=data.select([c for c in data.columns if c in ['Age','Annual Income (k$)','Spending Score (1-100)']])\n",
    "data_outliers.show()"
   ]
  },
  {
   "cell_type": "code",
   "execution_count": 12,
   "metadata": {},
   "outputs": [
    {
     "data": {
      "text/plain": [
       "DataFrame[Age: int, Annual Income (k$): int, Spending Score (1-100): int]"
      ]
     },
     "metadata": {},
     "output_type": "display_data"
    }
   ],
   "source": [
    "#boxplot\n",
    "display(data_outliers)"
   ]
  },
  {
   "cell_type": "code",
   "execution_count": 17,
   "metadata": {},
   "outputs": [
    {
     "data": {
      "text/html": [
       "<style scoped>\n",
       "  .table-result-container {\n",
       "    max-height: 300px;\n",
       "    overflow: auto;\n",
       "  }\n",
       "  table, th, td {\n",
       "    border: 1px solid black;\n",
       "    border-collapse: collapse;\n",
       "  }\n",
       "  th, td {\n",
       "    padding: 5px;\n",
       "  }\n",
       "  th {\n",
       "    text-align: left;\n",
       "  }\n",
       "</style><div class='table-result-container'><table class='table-result'><thead style='background-color: white'><tr><th>Age</th><th>Annual Income (k$)</th><th>Spending Score (1-100)</th></tr></thead><tbody><tr><td>19</td><td>15</td><td>39</td></tr><tr><td>21</td><td>15</td><td>81</td></tr><tr><td>20</td><td>16</td><td>6</td></tr><tr><td>23</td><td>16</td><td>77</td></tr><tr><td>31</td><td>17</td><td>40</td></tr><tr><td>22</td><td>17</td><td>76</td></tr><tr><td>35</td><td>18</td><td>6</td></tr><tr><td>23</td><td>18</td><td>94</td></tr><tr><td>64</td><td>19</td><td>3</td></tr><tr><td>30</td><td>19</td><td>72</td></tr><tr><td>67</td><td>19</td><td>14</td></tr><tr><td>35</td><td>19</td><td>99</td></tr><tr><td>58</td><td>20</td><td>15</td></tr><tr><td>24</td><td>20</td><td>77</td></tr><tr><td>37</td><td>20</td><td>13</td></tr><tr><td>22</td><td>20</td><td>79</td></tr><tr><td>35</td><td>21</td><td>35</td></tr><tr><td>20</td><td>21</td><td>66</td></tr><tr><td>52</td><td>23</td><td>29</td></tr><tr><td>35</td><td>23</td><td>98</td></tr><tr><td>35</td><td>24</td><td>35</td></tr><tr><td>25</td><td>24</td><td>73</td></tr><tr><td>46</td><td>25</td><td>5</td></tr><tr><td>31</td><td>25</td><td>73</td></tr><tr><td>54</td><td>28</td><td>14</td></tr><tr><td>29</td><td>28</td><td>82</td></tr><tr><td>45</td><td>28</td><td>32</td></tr><tr><td>35</td><td>28</td><td>61</td></tr><tr><td>40</td><td>29</td><td>31</td></tr><tr><td>23</td><td>29</td><td>87</td></tr><tr><td>60</td><td>30</td><td>4</td></tr><tr><td>21</td><td>30</td><td>73</td></tr><tr><td>53</td><td>33</td><td>4</td></tr><tr><td>18</td><td>33</td><td>92</td></tr><tr><td>49</td><td>33</td><td>14</td></tr><tr><td>21</td><td>33</td><td>81</td></tr><tr><td>42</td><td>34</td><td>17</td></tr><tr><td>30</td><td>34</td><td>73</td></tr><tr><td>36</td><td>37</td><td>26</td></tr><tr><td>20</td><td>37</td><td>75</td></tr><tr><td>65</td><td>38</td><td>35</td></tr><tr><td>24</td><td>38</td><td>92</td></tr><tr><td>48</td><td>39</td><td>36</td></tr><tr><td>31</td><td>39</td><td>61</td></tr><tr><td>49</td><td>39</td><td>28</td></tr><tr><td>24</td><td>39</td><td>65</td></tr><tr><td>50</td><td>40</td><td>55</td></tr><tr><td>27</td><td>40</td><td>47</td></tr><tr><td>29</td><td>40</td><td>42</td></tr><tr><td>31</td><td>40</td><td>42</td></tr><tr><td>49</td><td>42</td><td>52</td></tr><tr><td>33</td><td>42</td><td>60</td></tr><tr><td>31</td><td>43</td><td>54</td></tr><tr><td>59</td><td>43</td><td>60</td></tr><tr><td>50</td><td>43</td><td>45</td></tr><tr><td>47</td><td>43</td><td>41</td></tr><tr><td>51</td><td>44</td><td>50</td></tr><tr><td>69</td><td>44</td><td>46</td></tr><tr><td>27</td><td>46</td><td>51</td></tr><tr><td>53</td><td>46</td><td>46</td></tr><tr><td>70</td><td>46</td><td>56</td></tr><tr><td>19</td><td>46</td><td>55</td></tr><tr><td>67</td><td>47</td><td>52</td></tr><tr><td>54</td><td>47</td><td>59</td></tr><tr><td>63</td><td>48</td><td>51</td></tr><tr><td>18</td><td>48</td><td>59</td></tr><tr><td>43</td><td>48</td><td>50</td></tr><tr><td>68</td><td>48</td><td>48</td></tr><tr><td>19</td><td>48</td><td>59</td></tr><tr><td>32</td><td>48</td><td>47</td></tr><tr><td>70</td><td>49</td><td>55</td></tr><tr><td>47</td><td>49</td><td>42</td></tr><tr><td>60</td><td>50</td><td>49</td></tr><tr><td>60</td><td>50</td><td>56</td></tr><tr><td>59</td><td>54</td><td>47</td></tr><tr><td>26</td><td>54</td><td>54</td></tr><tr><td>45</td><td>54</td><td>53</td></tr><tr><td>40</td><td>54</td><td>48</td></tr><tr><td>23</td><td>54</td><td>52</td></tr><tr><td>49</td><td>54</td><td>42</td></tr><tr><td>57</td><td>54</td><td>51</td></tr><tr><td>38</td><td>54</td><td>55</td></tr><tr><td>67</td><td>54</td><td>41</td></tr><tr><td>46</td><td>54</td><td>44</td></tr><tr><td>21</td><td>54</td><td>57</td></tr><tr><td>48</td><td>54</td><td>46</td></tr><tr><td>55</td><td>57</td><td>58</td></tr><tr><td>22</td><td>57</td><td>55</td></tr><tr><td>34</td><td>58</td><td>60</td></tr><tr><td>50</td><td>58</td><td>46</td></tr><tr><td>68</td><td>59</td><td>55</td></tr><tr><td>18</td><td>59</td><td>41</td></tr><tr><td>48</td><td>60</td><td>49</td></tr><tr><td>40</td><td>60</td><td>40</td></tr><tr><td>32</td><td>60</td><td>42</td></tr><tr><td>24</td><td>60</td><td>52</td></tr><tr><td>47</td><td>60</td><td>47</td></tr><tr><td>27</td><td>60</td><td>50</td></tr><tr><td>48</td><td>61</td><td>42</td></tr><tr><td>20</td><td>61</td><td>49</td></tr><tr><td>23</td><td>62</td><td>41</td></tr><tr><td>49</td><td>62</td><td>48</td></tr><tr><td>67</td><td>62</td><td>59</td></tr><tr><td>26</td><td>62</td><td>55</td></tr><tr><td>49</td><td>62</td><td>56</td></tr><tr><td>21</td><td>62</td><td>42</td></tr><tr><td>66</td><td>63</td><td>50</td></tr><tr><td>54</td><td>63</td><td>46</td></tr><tr><td>68</td><td>63</td><td>43</td></tr><tr><td>66</td><td>63</td><td>48</td></tr><tr><td>65</td><td>63</td><td>52</td></tr><tr><td>19</td><td>63</td><td>54</td></tr><tr><td>38</td><td>64</td><td>42</td></tr><tr><td>19</td><td>64</td><td>46</td></tr><tr><td>18</td><td>65</td><td>48</td></tr><tr><td>19</td><td>65</td><td>50</td></tr><tr><td>63</td><td>65</td><td>43</td></tr><tr><td>49</td><td>65</td><td>59</td></tr><tr><td>51</td><td>67</td><td>43</td></tr><tr><td>50</td><td>67</td><td>57</td></tr><tr><td>27</td><td>67</td><td>56</td></tr><tr><td>38</td><td>67</td><td>40</td></tr><tr><td>40</td><td>69</td><td>58</td></tr><tr><td>39</td><td>69</td><td>91</td></tr><tr><td>23</td><td>70</td><td>29</td></tr><tr><td>31</td><td>70</td><td>77</td></tr><tr><td>43</td><td>71</td><td>35</td></tr><tr><td>40</td><td>71</td><td>95</td></tr><tr><td>59</td><td>71</td><td>11</td></tr><tr><td>38</td><td>71</td><td>75</td></tr><tr><td>47</td><td>71</td><td>9</td></tr><tr><td>39</td><td>71</td><td>75</td></tr><tr><td>25</td><td>72</td><td>34</td></tr><tr><td>31</td><td>72</td><td>71</td></tr><tr><td>20</td><td>73</td><td>5</td></tr><tr><td>29</td><td>73</td><td>88</td></tr><tr><td>44</td><td>73</td><td>7</td></tr><tr><td>32</td><td>73</td><td>73</td></tr><tr><td>19</td><td>74</td><td>10</td></tr><tr><td>35</td><td>74</td><td>72</td></tr><tr><td>57</td><td>75</td><td>5</td></tr><tr><td>32</td><td>75</td><td>93</td></tr><tr><td>28</td><td>76</td><td>40</td></tr><tr><td>32</td><td>76</td><td>87</td></tr><tr><td>25</td><td>77</td><td>12</td></tr><tr><td>28</td><td>77</td><td>97</td></tr><tr><td>48</td><td>77</td><td>36</td></tr><tr><td>32</td><td>77</td><td>74</td></tr><tr><td>34</td><td>78</td><td>22</td></tr><tr><td>34</td><td>78</td><td>90</td></tr><tr><td>43</td><td>78</td><td>17</td></tr><tr><td>39</td><td>78</td><td>88</td></tr><tr><td>44</td><td>78</td><td>20</td></tr><tr><td>38</td><td>78</td><td>76</td></tr><tr><td>47</td><td>78</td><td>16</td></tr><tr><td>27</td><td>78</td><td>89</td></tr><tr><td>37</td><td>78</td><td>1</td></tr><tr><td>30</td><td>78</td><td>78</td></tr><tr><td>34</td><td>78</td><td>1</td></tr><tr><td>30</td><td>78</td><td>73</td></tr><tr><td>56</td><td>79</td><td>35</td></tr><tr><td>29</td><td>79</td><td>83</td></tr><tr><td>19</td><td>81</td><td>5</td></tr><tr><td>31</td><td>81</td><td>93</td></tr><tr><td>50</td><td>85</td><td>26</td></tr><tr><td>36</td><td>85</td><td>75</td></tr><tr><td>42</td><td>86</td><td>20</td></tr><tr><td>33</td><td>86</td><td>95</td></tr><tr><td>36</td><td>87</td><td>27</td></tr><tr><td>32</td><td>87</td><td>63</td></tr><tr><td>40</td><td>87</td><td>13</td></tr><tr><td>28</td><td>87</td><td>75</td></tr><tr><td>36</td><td>87</td><td>10</td></tr><tr><td>36</td><td>87</td><td>92</td></tr><tr><td>52</td><td>88</td><td>13</td></tr><tr><td>30</td><td>88</td><td>86</td></tr><tr><td>58</td><td>88</td><td>15</td></tr><tr><td>27</td><td>88</td><td>69</td></tr><tr><td>59</td><td>93</td><td>14</td></tr><tr><td>35</td><td>93</td><td>90</td></tr><tr><td>37</td><td>97</td><td>32</td></tr><tr><td>32</td><td>97</td><td>86</td></tr><tr><td>46</td><td>98</td><td>15</td></tr><tr><td>29</td><td>98</td><td>88</td></tr><tr><td>41</td><td>99</td><td>39</td></tr><tr><td>30</td><td>99</td><td>97</td></tr><tr><td>54</td><td>101</td><td>24</td></tr><tr><td>28</td><td>101</td><td>68</td></tr><tr><td>41</td><td>103</td><td>17</td></tr><tr><td>36</td><td>103</td><td>85</td></tr><tr><td>34</td><td>103</td><td>23</td></tr><tr><td>32</td><td>103</td><td>69</td></tr><tr><td>33</td><td>113</td><td>8</td></tr><tr><td>38</td><td>113</td><td>91</td></tr><tr><td>47</td><td>120</td><td>16</td></tr><tr><td>35</td><td>120</td><td>79</td></tr><tr><td>45</td><td>126</td><td>28</td></tr><tr><td>32</td><td>126</td><td>74</td></tr><tr><td>32</td><td>137</td><td>18</td></tr><tr><td>30</td><td>137</td><td>83</td></tr></tbody></table></div>"
      ]
     },
     "metadata": {},
     "output_type": "display_data"
    }
   ],
   "source": [
    "#histograma\n",
    "display(data_outliers)"
   ]
  },
  {
   "cell_type": "markdown",
   "metadata": {},
   "source": [
    "Conhecendo o dataset"
   ]
  },
  {
   "cell_type": "code",
   "execution_count": 42,
   "metadata": {},
   "outputs": [],
   "source": [
    "import pandas as pd\n",
    "import numpy as np\n",
    "import matplotlib.pyplot as plt\n",
    "\n",
    "dataGA = data.select([\"Genre\",\"Annual Income (k$)\"])\n",
    "dataGA = dataGA.toPandas()"
   ]
  },
  {
   "cell_type": "code",
   "execution_count": 54,
   "metadata": {},
   "outputs": [],
   "source": [
    "dataGA[\"Annual Income (k$)\"] = dataGA[\"Annual Income (k$)\"].apply(pd.to_numeric)"
   ]
  },
  {
   "cell_type": "code",
   "execution_count": 59,
   "metadata": {},
   "outputs": [
    {
     "data": {
      "text/html": [
       "<div>\n",
       "<style scoped>\n",
       "    .dataframe tbody tr th:only-of-type {\n",
       "        vertical-align: middle;\n",
       "    }\n",
       "\n",
       "    .dataframe tbody tr th {\n",
       "        vertical-align: top;\n",
       "    }\n",
       "\n",
       "    .dataframe thead th {\n",
       "        text-align: right;\n",
       "    }\n",
       "</style>\n",
       "<table border=\"1\" class=\"dataframe\">\n",
       "  <thead>\n",
       "    <tr style=\"text-align: right;\">\n",
       "      <th></th>\n",
       "      <th>Annual Income (k$)</th>\n",
       "    </tr>\n",
       "    <tr>\n",
       "      <th>Genre</th>\n",
       "      <th></th>\n",
       "    </tr>\n",
       "  </thead>\n",
       "  <tbody>\n",
       "    <tr>\n",
       "      <th>Female</th>\n",
       "      <td>59.250000</td>\n",
       "    </tr>\n",
       "    <tr>\n",
       "      <th>Male</th>\n",
       "      <td>62.227273</td>\n",
       "    </tr>\n",
       "  </tbody>\n",
       "</table>\n",
       "</div>"
      ],
      "text/plain": [
       "        Annual Income (k$)\n",
       "Genre                     \n",
       "Female           59.250000\n",
       "Male             62.227273"
      ]
     },
     "execution_count": 59,
     "metadata": {},
     "output_type": "execute_result"
    }
   ],
   "source": [
    "dataGA.groupby(['Genre']).mean()"
   ]
  },
  {
   "cell_type": "code",
   "execution_count": 20,
   "metadata": {},
   "outputs": [
    {
     "data": {
      "text/html": [
       "<style scoped>\n",
       "  .table-result-container {\n",
       "    max-height: 300px;\n",
       "    overflow: auto;\n",
       "  }\n",
       "  table, th, td {\n",
       "    border: 1px solid black;\n",
       "    border-collapse: collapse;\n",
       "  }\n",
       "  th, td {\n",
       "    padding: 5px;\n",
       "  }\n",
       "  th {\n",
       "    text-align: left;\n",
       "  }\n",
       "</style><div class='table-result-container'><table class='table-result'><thead style='background-color: white'><tr><th>Age</th></tr></thead><tbody><tr><td>19</td></tr><tr><td>21</td></tr><tr><td>20</td></tr><tr><td>23</td></tr><tr><td>31</td></tr><tr><td>22</td></tr><tr><td>35</td></tr><tr><td>23</td></tr><tr><td>64</td></tr><tr><td>30</td></tr><tr><td>67</td></tr><tr><td>35</td></tr><tr><td>58</td></tr><tr><td>24</td></tr><tr><td>37</td></tr><tr><td>22</td></tr><tr><td>35</td></tr><tr><td>20</td></tr><tr><td>52</td></tr><tr><td>35</td></tr><tr><td>35</td></tr><tr><td>25</td></tr><tr><td>46</td></tr><tr><td>31</td></tr><tr><td>54</td></tr><tr><td>29</td></tr><tr><td>45</td></tr><tr><td>35</td></tr><tr><td>40</td></tr><tr><td>23</td></tr><tr><td>60</td></tr><tr><td>21</td></tr><tr><td>53</td></tr><tr><td>18</td></tr><tr><td>49</td></tr><tr><td>21</td></tr><tr><td>42</td></tr><tr><td>30</td></tr><tr><td>36</td></tr><tr><td>20</td></tr><tr><td>65</td></tr><tr><td>24</td></tr><tr><td>48</td></tr><tr><td>31</td></tr><tr><td>49</td></tr><tr><td>24</td></tr><tr><td>50</td></tr><tr><td>27</td></tr><tr><td>29</td></tr><tr><td>31</td></tr><tr><td>49</td></tr><tr><td>33</td></tr><tr><td>31</td></tr><tr><td>59</td></tr><tr><td>50</td></tr><tr><td>47</td></tr><tr><td>51</td></tr><tr><td>69</td></tr><tr><td>27</td></tr><tr><td>53</td></tr><tr><td>70</td></tr><tr><td>19</td></tr><tr><td>67</td></tr><tr><td>54</td></tr><tr><td>63</td></tr><tr><td>18</td></tr><tr><td>43</td></tr><tr><td>68</td></tr><tr><td>19</td></tr><tr><td>32</td></tr><tr><td>70</td></tr><tr><td>47</td></tr><tr><td>60</td></tr><tr><td>60</td></tr><tr><td>59</td></tr><tr><td>26</td></tr><tr><td>45</td></tr><tr><td>40</td></tr><tr><td>23</td></tr><tr><td>49</td></tr><tr><td>57</td></tr><tr><td>38</td></tr><tr><td>67</td></tr><tr><td>46</td></tr><tr><td>21</td></tr><tr><td>48</td></tr><tr><td>55</td></tr><tr><td>22</td></tr><tr><td>34</td></tr><tr><td>50</td></tr><tr><td>68</td></tr><tr><td>18</td></tr><tr><td>48</td></tr><tr><td>40</td></tr><tr><td>32</td></tr><tr><td>24</td></tr><tr><td>47</td></tr><tr><td>27</td></tr><tr><td>48</td></tr><tr><td>20</td></tr><tr><td>23</td></tr><tr><td>49</td></tr><tr><td>67</td></tr><tr><td>26</td></tr><tr><td>49</td></tr><tr><td>21</td></tr><tr><td>66</td></tr><tr><td>54</td></tr><tr><td>68</td></tr><tr><td>66</td></tr><tr><td>65</td></tr><tr><td>19</td></tr><tr><td>38</td></tr><tr><td>19</td></tr><tr><td>18</td></tr><tr><td>19</td></tr><tr><td>63</td></tr><tr><td>49</td></tr><tr><td>51</td></tr><tr><td>50</td></tr><tr><td>27</td></tr><tr><td>38</td></tr><tr><td>40</td></tr><tr><td>39</td></tr><tr><td>23</td></tr><tr><td>31</td></tr><tr><td>43</td></tr><tr><td>40</td></tr><tr><td>59</td></tr><tr><td>38</td></tr><tr><td>47</td></tr><tr><td>39</td></tr><tr><td>25</td></tr><tr><td>31</td></tr><tr><td>20</td></tr><tr><td>29</td></tr><tr><td>44</td></tr><tr><td>32</td></tr><tr><td>19</td></tr><tr><td>35</td></tr><tr><td>57</td></tr><tr><td>32</td></tr><tr><td>28</td></tr><tr><td>32</td></tr><tr><td>25</td></tr><tr><td>28</td></tr><tr><td>48</td></tr><tr><td>32</td></tr><tr><td>34</td></tr><tr><td>34</td></tr><tr><td>43</td></tr><tr><td>39</td></tr><tr><td>44</td></tr><tr><td>38</td></tr><tr><td>47</td></tr><tr><td>27</td></tr><tr><td>37</td></tr><tr><td>30</td></tr><tr><td>34</td></tr><tr><td>30</td></tr><tr><td>56</td></tr><tr><td>29</td></tr><tr><td>19</td></tr><tr><td>31</td></tr><tr><td>50</td></tr><tr><td>36</td></tr><tr><td>42</td></tr><tr><td>33</td></tr><tr><td>36</td></tr><tr><td>32</td></tr><tr><td>40</td></tr><tr><td>28</td></tr><tr><td>36</td></tr><tr><td>36</td></tr><tr><td>52</td></tr><tr><td>30</td></tr><tr><td>58</td></tr><tr><td>27</td></tr><tr><td>59</td></tr><tr><td>35</td></tr><tr><td>37</td></tr><tr><td>32</td></tr><tr><td>46</td></tr><tr><td>29</td></tr><tr><td>41</td></tr><tr><td>30</td></tr><tr><td>54</td></tr><tr><td>28</td></tr><tr><td>41</td></tr><tr><td>36</td></tr><tr><td>34</td></tr><tr><td>32</td></tr><tr><td>33</td></tr><tr><td>38</td></tr><tr><td>47</td></tr><tr><td>35</td></tr><tr><td>45</td></tr><tr><td>32</td></tr><tr><td>32</td></tr><tr><td>30</td></tr></tbody></table></div>"
      ]
     },
     "metadata": {},
     "output_type": "display_data"
    }
   ],
   "source": [
    "#distribuição dos consumidores pela idade\n",
    "display(data.select([\"Age\"]))"
   ]
  },
  {
   "cell_type": "code",
   "execution_count": 21,
   "metadata": {},
   "outputs": [
    {
     "data": {
      "text/html": [
       "<style scoped>\n",
       "  .table-result-container {\n",
       "    max-height: 300px;\n",
       "    overflow: auto;\n",
       "  }\n",
       "  table, th, td {\n",
       "    border: 1px solid black;\n",
       "    border-collapse: collapse;\n",
       "  }\n",
       "  th, td {\n",
       "    padding: 5px;\n",
       "  }\n",
       "  th {\n",
       "    text-align: left;\n",
       "  }\n",
       "</style><div class='table-result-container'><table class='table-result'><thead style='background-color: white'><tr><th>Age</th><th>Genre</th></tr></thead><tbody><tr><td>19</td><td>Male</td></tr><tr><td>21</td><td>Male</td></tr><tr><td>20</td><td>Female</td></tr><tr><td>23</td><td>Female</td></tr><tr><td>31</td><td>Female</td></tr><tr><td>22</td><td>Female</td></tr><tr><td>35</td><td>Female</td></tr><tr><td>23</td><td>Female</td></tr><tr><td>64</td><td>Male</td></tr><tr><td>30</td><td>Female</td></tr><tr><td>67</td><td>Male</td></tr><tr><td>35</td><td>Female</td></tr><tr><td>58</td><td>Female</td></tr><tr><td>24</td><td>Female</td></tr><tr><td>37</td><td>Male</td></tr><tr><td>22</td><td>Male</td></tr><tr><td>35</td><td>Female</td></tr><tr><td>20</td><td>Male</td></tr><tr><td>52</td><td>Male</td></tr><tr><td>35</td><td>Female</td></tr><tr><td>35</td><td>Male</td></tr><tr><td>25</td><td>Male</td></tr><tr><td>46</td><td>Female</td></tr><tr><td>31</td><td>Male</td></tr><tr><td>54</td><td>Female</td></tr><tr><td>29</td><td>Male</td></tr><tr><td>45</td><td>Female</td></tr><tr><td>35</td><td>Male</td></tr><tr><td>40</td><td>Female</td></tr><tr><td>23</td><td>Female</td></tr><tr><td>60</td><td>Male</td></tr><tr><td>21</td><td>Female</td></tr><tr><td>53</td><td>Male</td></tr><tr><td>18</td><td>Male</td></tr><tr><td>49</td><td>Female</td></tr><tr><td>21</td><td>Female</td></tr><tr><td>42</td><td>Female</td></tr><tr><td>30</td><td>Female</td></tr><tr><td>36</td><td>Female</td></tr><tr><td>20</td><td>Female</td></tr><tr><td>65</td><td>Female</td></tr><tr><td>24</td><td>Male</td></tr><tr><td>48</td><td>Male</td></tr><tr><td>31</td><td>Female</td></tr><tr><td>49</td><td>Female</td></tr><tr><td>24</td><td>Female</td></tr><tr><td>50</td><td>Female</td></tr><tr><td>27</td><td>Female</td></tr><tr><td>29</td><td>Female</td></tr><tr><td>31</td><td>Female</td></tr><tr><td>49</td><td>Female</td></tr><tr><td>33</td><td>Male</td></tr><tr><td>31</td><td>Female</td></tr><tr><td>59</td><td>Male</td></tr><tr><td>50</td><td>Female</td></tr><tr><td>47</td><td>Male</td></tr><tr><td>51</td><td>Female</td></tr><tr><td>69</td><td>Male</td></tr><tr><td>27</td><td>Female</td></tr><tr><td>53</td><td>Male</td></tr><tr><td>70</td><td>Male</td></tr><tr><td>19</td><td>Male</td></tr><tr><td>67</td><td>Female</td></tr><tr><td>54</td><td>Female</td></tr><tr><td>63</td><td>Male</td></tr><tr><td>18</td><td>Male</td></tr><tr><td>43</td><td>Female</td></tr><tr><td>68</td><td>Female</td></tr><tr><td>19</td><td>Male</td></tr><tr><td>32</td><td>Female</td></tr><tr><td>70</td><td>Male</td></tr><tr><td>47</td><td>Female</td></tr><tr><td>60</td><td>Female</td></tr><tr><td>60</td><td>Female</td></tr><tr><td>59</td><td>Male</td></tr><tr><td>26</td><td>Male</td></tr><tr><td>45</td><td>Female</td></tr><tr><td>40</td><td>Male</td></tr><tr><td>23</td><td>Female</td></tr><tr><td>49</td><td>Female</td></tr><tr><td>57</td><td>Male</td></tr><tr><td>38</td><td>Male</td></tr><tr><td>67</td><td>Male</td></tr><tr><td>46</td><td>Female</td></tr><tr><td>21</td><td>Female</td></tr><tr><td>48</td><td>Male</td></tr><tr><td>55</td><td>Female</td></tr><tr><td>22</td><td>Female</td></tr><tr><td>34</td><td>Female</td></tr><tr><td>50</td><td>Female</td></tr><tr><td>68</td><td>Female</td></tr><tr><td>18</td><td>Male</td></tr><tr><td>48</td><td>Male</td></tr><tr><td>40</td><td>Female</td></tr><tr><td>32</td><td>Female</td></tr><tr><td>24</td><td>Male</td></tr><tr><td>47</td><td>Female</td></tr><tr><td>27</td><td>Female</td></tr><tr><td>48</td><td>Male</td></tr><tr><td>20</td><td>Male</td></tr><tr><td>23</td><td>Female</td></tr><tr><td>49</td><td>Female</td></tr><tr><td>67</td><td>Male</td></tr><tr><td>26</td><td>Male</td></tr><tr><td>49</td><td>Male</td></tr><tr><td>21</td><td>Female</td></tr><tr><td>66</td><td>Female</td></tr><tr><td>54</td><td>Male</td></tr><tr><td>68</td><td>Male</td></tr><tr><td>66</td><td>Male</td></tr><tr><td>65</td><td>Male</td></tr><tr><td>19</td><td>Female</td></tr><tr><td>38</td><td>Female</td></tr><tr><td>19</td><td>Male</td></tr><tr><td>18</td><td>Female</td></tr><tr><td>19</td><td>Female</td></tr><tr><td>63</td><td>Female</td></tr><tr><td>49</td><td>Female</td></tr><tr><td>51</td><td>Female</td></tr><tr><td>50</td><td>Female</td></tr><tr><td>27</td><td>Male</td></tr><tr><td>38</td><td>Female</td></tr><tr><td>40</td><td>Female</td></tr><tr><td>39</td><td>Male</td></tr><tr><td>23</td><td>Female</td></tr><tr><td>31</td><td>Female</td></tr><tr><td>43</td><td>Male</td></tr><tr><td>40</td><td>Male</td></tr><tr><td>59</td><td>Male</td></tr><tr><td>38</td><td>Male</td></tr><tr><td>47</td><td>Male</td></tr><tr><td>39</td><td>Male</td></tr><tr><td>25</td><td>Female</td></tr><tr><td>31</td><td>Female</td></tr><tr><td>20</td><td>Male</td></tr><tr><td>29</td><td>Female</td></tr><tr><td>44</td><td>Female</td></tr><tr><td>32</td><td>Male</td></tr><tr><td>19</td><td>Male</td></tr><tr><td>35</td><td>Female</td></tr><tr><td>57</td><td>Female</td></tr><tr><td>32</td><td>Male</td></tr><tr><td>28</td><td>Female</td></tr><tr><td>32</td><td>Female</td></tr><tr><td>25</td><td>Male</td></tr><tr><td>28</td><td>Male</td></tr><tr><td>48</td><td>Male</td></tr><tr><td>32</td><td>Female</td></tr><tr><td>34</td><td>Female</td></tr><tr><td>34</td><td>Male</td></tr><tr><td>43</td><td>Male</td></tr><tr><td>39</td><td>Male</td></tr><tr><td>44</td><td>Female</td></tr><tr><td>38</td><td>Female</td></tr><tr><td>47</td><td>Female</td></tr><tr><td>27</td><td>Female</td></tr><tr><td>37</td><td>Male</td></tr><tr><td>30</td><td>Female</td></tr><tr><td>34</td><td>Male</td></tr><tr><td>30</td><td>Female</td></tr><tr><td>56</td><td>Female</td></tr><tr><td>29</td><td>Female</td></tr><tr><td>19</td><td>Male</td></tr><tr><td>31</td><td>Female</td></tr><tr><td>50</td><td>Male</td></tr><tr><td>36</td><td>Female</td></tr><tr><td>42</td><td>Male</td></tr><tr><td>33</td><td>Female</td></tr><tr><td>36</td><td>Female</td></tr><tr><td>32</td><td>Male</td></tr><tr><td>40</td><td>Male</td></tr><tr><td>28</td><td>Male</td></tr><tr><td>36</td><td>Male</td></tr><tr><td>36</td><td>Male</td></tr><tr><td>52</td><td>Female</td></tr><tr><td>30</td><td>Female</td></tr><tr><td>58</td><td>Male</td></tr><tr><td>27</td><td>Male</td></tr><tr><td>59</td><td>Male</td></tr><tr><td>35</td><td>Male</td></tr><tr><td>37</td><td>Female</td></tr><tr><td>32</td><td>Female</td></tr><tr><td>46</td><td>Male</td></tr><tr><td>29</td><td>Female</td></tr><tr><td>41</td><td>Female</td></tr><tr><td>30</td><td>Male</td></tr><tr><td>54</td><td>Female</td></tr><tr><td>28</td><td>Male</td></tr><tr><td>41</td><td>Female</td></tr><tr><td>36</td><td>Female</td></tr><tr><td>34</td><td>Female</td></tr><tr><td>32</td><td>Female</td></tr><tr><td>33</td><td>Male</td></tr><tr><td>38</td><td>Female</td></tr><tr><td>47</td><td>Female</td></tr><tr><td>35</td><td>Female</td></tr><tr><td>45</td><td>Female</td></tr><tr><td>32</td><td>Male</td></tr><tr><td>32</td><td>Male</td></tr><tr><td>30</td><td>Male</td></tr></tbody></table></div>"
      ]
     },
     "metadata": {},
     "output_type": "display_data"
    }
   ],
   "source": [
    "#encontrando a distribuição da idade x sexo\n",
    "display(data.select([\"Age\",\"Genre\"]))"
   ]
  },
  {
   "cell_type": "code",
   "execution_count": 22,
   "metadata": {},
   "outputs": [
    {
     "data": {
      "text/html": [
       "<style scoped>\n",
       "  .table-result-container {\n",
       "    max-height: 300px;\n",
       "    overflow: auto;\n",
       "  }\n",
       "  table, th, td {\n",
       "    border: 1px solid black;\n",
       "    border-collapse: collapse;\n",
       "  }\n",
       "  th, td {\n",
       "    padding: 5px;\n",
       "  }\n",
       "  th {\n",
       "    text-align: left;\n",
       "  }\n",
       "</style><div class='table-result-container'><table class='table-result'><thead style='background-color: white'><tr><th>Age</th><th>Genre</th></tr></thead><tbody><tr><td>19</td><td>Male</td></tr><tr><td>21</td><td>Male</td></tr><tr><td>20</td><td>Female</td></tr><tr><td>23</td><td>Female</td></tr><tr><td>31</td><td>Female</td></tr><tr><td>22</td><td>Female</td></tr><tr><td>35</td><td>Female</td></tr><tr><td>23</td><td>Female</td></tr><tr><td>64</td><td>Male</td></tr><tr><td>30</td><td>Female</td></tr><tr><td>67</td><td>Male</td></tr><tr><td>35</td><td>Female</td></tr><tr><td>58</td><td>Female</td></tr><tr><td>24</td><td>Female</td></tr><tr><td>37</td><td>Male</td></tr><tr><td>22</td><td>Male</td></tr><tr><td>35</td><td>Female</td></tr><tr><td>20</td><td>Male</td></tr><tr><td>52</td><td>Male</td></tr><tr><td>35</td><td>Female</td></tr><tr><td>35</td><td>Male</td></tr><tr><td>25</td><td>Male</td></tr><tr><td>46</td><td>Female</td></tr><tr><td>31</td><td>Male</td></tr><tr><td>54</td><td>Female</td></tr><tr><td>29</td><td>Male</td></tr><tr><td>45</td><td>Female</td></tr><tr><td>35</td><td>Male</td></tr><tr><td>40</td><td>Female</td></tr><tr><td>23</td><td>Female</td></tr><tr><td>60</td><td>Male</td></tr><tr><td>21</td><td>Female</td></tr><tr><td>53</td><td>Male</td></tr><tr><td>18</td><td>Male</td></tr><tr><td>49</td><td>Female</td></tr><tr><td>21</td><td>Female</td></tr><tr><td>42</td><td>Female</td></tr><tr><td>30</td><td>Female</td></tr><tr><td>36</td><td>Female</td></tr><tr><td>20</td><td>Female</td></tr><tr><td>65</td><td>Female</td></tr><tr><td>24</td><td>Male</td></tr><tr><td>48</td><td>Male</td></tr><tr><td>31</td><td>Female</td></tr><tr><td>49</td><td>Female</td></tr><tr><td>24</td><td>Female</td></tr><tr><td>50</td><td>Female</td></tr><tr><td>27</td><td>Female</td></tr><tr><td>29</td><td>Female</td></tr><tr><td>31</td><td>Female</td></tr><tr><td>49</td><td>Female</td></tr><tr><td>33</td><td>Male</td></tr><tr><td>31</td><td>Female</td></tr><tr><td>59</td><td>Male</td></tr><tr><td>50</td><td>Female</td></tr><tr><td>47</td><td>Male</td></tr><tr><td>51</td><td>Female</td></tr><tr><td>69</td><td>Male</td></tr><tr><td>27</td><td>Female</td></tr><tr><td>53</td><td>Male</td></tr><tr><td>70</td><td>Male</td></tr><tr><td>19</td><td>Male</td></tr><tr><td>67</td><td>Female</td></tr><tr><td>54</td><td>Female</td></tr><tr><td>63</td><td>Male</td></tr><tr><td>18</td><td>Male</td></tr><tr><td>43</td><td>Female</td></tr><tr><td>68</td><td>Female</td></tr><tr><td>19</td><td>Male</td></tr><tr><td>32</td><td>Female</td></tr><tr><td>70</td><td>Male</td></tr><tr><td>47</td><td>Female</td></tr><tr><td>60</td><td>Female</td></tr><tr><td>60</td><td>Female</td></tr><tr><td>59</td><td>Male</td></tr><tr><td>26</td><td>Male</td></tr><tr><td>45</td><td>Female</td></tr><tr><td>40</td><td>Male</td></tr><tr><td>23</td><td>Female</td></tr><tr><td>49</td><td>Female</td></tr><tr><td>57</td><td>Male</td></tr><tr><td>38</td><td>Male</td></tr><tr><td>67</td><td>Male</td></tr><tr><td>46</td><td>Female</td></tr><tr><td>21</td><td>Female</td></tr><tr><td>48</td><td>Male</td></tr><tr><td>55</td><td>Female</td></tr><tr><td>22</td><td>Female</td></tr><tr><td>34</td><td>Female</td></tr><tr><td>50</td><td>Female</td></tr><tr><td>68</td><td>Female</td></tr><tr><td>18</td><td>Male</td></tr><tr><td>48</td><td>Male</td></tr><tr><td>40</td><td>Female</td></tr><tr><td>32</td><td>Female</td></tr><tr><td>24</td><td>Male</td></tr><tr><td>47</td><td>Female</td></tr><tr><td>27</td><td>Female</td></tr><tr><td>48</td><td>Male</td></tr><tr><td>20</td><td>Male</td></tr><tr><td>23</td><td>Female</td></tr><tr><td>49</td><td>Female</td></tr><tr><td>67</td><td>Male</td></tr><tr><td>26</td><td>Male</td></tr><tr><td>49</td><td>Male</td></tr><tr><td>21</td><td>Female</td></tr><tr><td>66</td><td>Female</td></tr><tr><td>54</td><td>Male</td></tr><tr><td>68</td><td>Male</td></tr><tr><td>66</td><td>Male</td></tr><tr><td>65</td><td>Male</td></tr><tr><td>19</td><td>Female</td></tr><tr><td>38</td><td>Female</td></tr><tr><td>19</td><td>Male</td></tr><tr><td>18</td><td>Female</td></tr><tr><td>19</td><td>Female</td></tr><tr><td>63</td><td>Female</td></tr><tr><td>49</td><td>Female</td></tr><tr><td>51</td><td>Female</td></tr><tr><td>50</td><td>Female</td></tr><tr><td>27</td><td>Male</td></tr><tr><td>38</td><td>Female</td></tr><tr><td>40</td><td>Female</td></tr><tr><td>39</td><td>Male</td></tr><tr><td>23</td><td>Female</td></tr><tr><td>31</td><td>Female</td></tr><tr><td>43</td><td>Male</td></tr><tr><td>40</td><td>Male</td></tr><tr><td>59</td><td>Male</td></tr><tr><td>38</td><td>Male</td></tr><tr><td>47</td><td>Male</td></tr><tr><td>39</td><td>Male</td></tr><tr><td>25</td><td>Female</td></tr><tr><td>31</td><td>Female</td></tr><tr><td>20</td><td>Male</td></tr><tr><td>29</td><td>Female</td></tr><tr><td>44</td><td>Female</td></tr><tr><td>32</td><td>Male</td></tr><tr><td>19</td><td>Male</td></tr><tr><td>35</td><td>Female</td></tr><tr><td>57</td><td>Female</td></tr><tr><td>32</td><td>Male</td></tr><tr><td>28</td><td>Female</td></tr><tr><td>32</td><td>Female</td></tr><tr><td>25</td><td>Male</td></tr><tr><td>28</td><td>Male</td></tr><tr><td>48</td><td>Male</td></tr><tr><td>32</td><td>Female</td></tr><tr><td>34</td><td>Female</td></tr><tr><td>34</td><td>Male</td></tr><tr><td>43</td><td>Male</td></tr><tr><td>39</td><td>Male</td></tr><tr><td>44</td><td>Female</td></tr><tr><td>38</td><td>Female</td></tr><tr><td>47</td><td>Female</td></tr><tr><td>27</td><td>Female</td></tr><tr><td>37</td><td>Male</td></tr><tr><td>30</td><td>Female</td></tr><tr><td>34</td><td>Male</td></tr><tr><td>30</td><td>Female</td></tr><tr><td>56</td><td>Female</td></tr><tr><td>29</td><td>Female</td></tr><tr><td>19</td><td>Male</td></tr><tr><td>31</td><td>Female</td></tr><tr><td>50</td><td>Male</td></tr><tr><td>36</td><td>Female</td></tr><tr><td>42</td><td>Male</td></tr><tr><td>33</td><td>Female</td></tr><tr><td>36</td><td>Female</td></tr><tr><td>32</td><td>Male</td></tr><tr><td>40</td><td>Male</td></tr><tr><td>28</td><td>Male</td></tr><tr><td>36</td><td>Male</td></tr><tr><td>36</td><td>Male</td></tr><tr><td>52</td><td>Female</td></tr><tr><td>30</td><td>Female</td></tr><tr><td>58</td><td>Male</td></tr><tr><td>27</td><td>Male</td></tr><tr><td>59</td><td>Male</td></tr><tr><td>35</td><td>Male</td></tr><tr><td>37</td><td>Female</td></tr><tr><td>32</td><td>Female</td></tr><tr><td>46</td><td>Male</td></tr><tr><td>29</td><td>Female</td></tr><tr><td>41</td><td>Female</td></tr><tr><td>30</td><td>Male</td></tr><tr><td>54</td><td>Female</td></tr><tr><td>28</td><td>Male</td></tr><tr><td>41</td><td>Female</td></tr><tr><td>36</td><td>Female</td></tr><tr><td>34</td><td>Female</td></tr><tr><td>32</td><td>Female</td></tr><tr><td>33</td><td>Male</td></tr><tr><td>38</td><td>Female</td></tr><tr><td>47</td><td>Female</td></tr><tr><td>35</td><td>Female</td></tr><tr><td>45</td><td>Female</td></tr><tr><td>32</td><td>Male</td></tr><tr><td>32</td><td>Male</td></tr><tr><td>30</td><td>Male</td></tr></tbody></table></div>"
      ]
     },
     "metadata": {},
     "output_type": "display_data"
    }
   ],
   "source": [
    "#encontrando a distribuição da idade x sexo\n",
    "display(data.select([\"Age\",\"Genre\"]))"
   ]
  },
  {
   "cell_type": "markdown",
   "metadata": {},
   "source": [
    "A variável \"Spending Score (1-100)\" ou pontuação de consumo, corresponde à nota atribuída pelo shopping aos consumidores. Quanto mais próxima de 100 indica que o consumidor é mais \"lucrativo\" para o shopping."
   ]
  },
  {
   "cell_type": "code",
   "execution_count": 61,
   "metadata": {},
   "outputs": [],
   "source": [
    "#encontrando as notas atribuidas por gênero \n",
    "data7 = data.select([\"Spending Score (1-100)\",\"Genre\", \"Annual Income (k$)\"])"
   ]
  },
  {
   "cell_type": "code",
   "execution_count": 63,
   "metadata": {},
   "outputs": [],
   "source": [
    "data7 = data7.toPandas()"
   ]
  },
  {
   "cell_type": "code",
   "execution_count": 64,
   "metadata": {},
   "outputs": [
    {
     "data": {
      "text/html": [
       "<div>\n",
       "<style scoped>\n",
       "    .dataframe tbody tr th:only-of-type {\n",
       "        vertical-align: middle;\n",
       "    }\n",
       "\n",
       "    .dataframe tbody tr th {\n",
       "        vertical-align: top;\n",
       "    }\n",
       "\n",
       "    .dataframe thead th {\n",
       "        text-align: right;\n",
       "    }\n",
       "</style>\n",
       "<table border=\"1\" class=\"dataframe\">\n",
       "  <thead>\n",
       "    <tr style=\"text-align: right;\">\n",
       "      <th></th>\n",
       "      <th>Spending Score (1-100)</th>\n",
       "      <th>Annual Income (k$)</th>\n",
       "    </tr>\n",
       "  </thead>\n",
       "  <tbody>\n",
       "    <tr>\n",
       "      <th>count</th>\n",
       "      <td>200.000000</td>\n",
       "      <td>200.000000</td>\n",
       "    </tr>\n",
       "    <tr>\n",
       "      <th>mean</th>\n",
       "      <td>50.200000</td>\n",
       "      <td>60.560000</td>\n",
       "    </tr>\n",
       "    <tr>\n",
       "      <th>std</th>\n",
       "      <td>25.823522</td>\n",
       "      <td>26.264721</td>\n",
       "    </tr>\n",
       "    <tr>\n",
       "      <th>min</th>\n",
       "      <td>1.000000</td>\n",
       "      <td>15.000000</td>\n",
       "    </tr>\n",
       "    <tr>\n",
       "      <th>25%</th>\n",
       "      <td>34.750000</td>\n",
       "      <td>41.500000</td>\n",
       "    </tr>\n",
       "    <tr>\n",
       "      <th>50%</th>\n",
       "      <td>50.000000</td>\n",
       "      <td>61.500000</td>\n",
       "    </tr>\n",
       "    <tr>\n",
       "      <th>75%</th>\n",
       "      <td>73.000000</td>\n",
       "      <td>78.000000</td>\n",
       "    </tr>\n",
       "    <tr>\n",
       "      <th>max</th>\n",
       "      <td>99.000000</td>\n",
       "      <td>137.000000</td>\n",
       "    </tr>\n",
       "  </tbody>\n",
       "</table>\n",
       "</div>"
      ],
      "text/plain": [
       "       Spending Score (1-100)  Annual Income (k$)\n",
       "count              200.000000          200.000000\n",
       "mean                50.200000           60.560000\n",
       "std                 25.823522           26.264721\n",
       "min                  1.000000           15.000000\n",
       "25%                 34.750000           41.500000\n",
       "50%                 50.000000           61.500000\n",
       "75%                 73.000000           78.000000\n",
       "max                 99.000000          137.000000"
      ]
     },
     "execution_count": 64,
     "metadata": {},
     "output_type": "execute_result"
    }
   ],
   "source": [
    "data7.describe()"
   ]
  },
  {
   "cell_type": "code",
   "execution_count": 65,
   "metadata": {},
   "outputs": [
    {
     "data": {
      "text/html": [
       "<div>\n",
       "<style scoped>\n",
       "    .dataframe tbody tr th:only-of-type {\n",
       "        vertical-align: middle;\n",
       "    }\n",
       "\n",
       "    .dataframe tbody tr th {\n",
       "        vertical-align: top;\n",
       "    }\n",
       "\n",
       "    .dataframe thead th {\n",
       "        text-align: right;\n",
       "    }\n",
       "</style>\n",
       "<table border=\"1\" class=\"dataframe\">\n",
       "  <thead>\n",
       "    <tr style=\"text-align: right;\">\n",
       "      <th></th>\n",
       "      <th>Spending Score (1-100)</th>\n",
       "      <th>Annual Income (k$)</th>\n",
       "    </tr>\n",
       "    <tr>\n",
       "      <th>Genre</th>\n",
       "      <th></th>\n",
       "      <th></th>\n",
       "    </tr>\n",
       "  </thead>\n",
       "  <tbody>\n",
       "    <tr>\n",
       "      <th>Female</th>\n",
       "      <td>51.526786</td>\n",
       "      <td>59.250000</td>\n",
       "    </tr>\n",
       "    <tr>\n",
       "      <th>Male</th>\n",
       "      <td>48.511364</td>\n",
       "      <td>62.227273</td>\n",
       "    </tr>\n",
       "  </tbody>\n",
       "</table>\n",
       "</div>"
      ],
      "text/plain": [
       "        Spending Score (1-100)  Annual Income (k$)\n",
       "Genre                                             \n",
       "Female               51.526786           59.250000\n",
       "Male                 48.511364           62.227273"
      ]
     },
     "execution_count": 65,
     "metadata": {},
     "output_type": "execute_result"
    }
   ],
   "source": [
    "data7.groupby(['Genre']).mean()"
   ]
  },
  {
   "cell_type": "markdown",
   "metadata": {},
   "source": [
    "Analisando a correlação entre Idade e Nota Atribuída"
   ]
  },
  {
   "cell_type": "code",
   "execution_count": 26,
   "metadata": {},
   "outputs": [
    {
     "data": {
      "text/html": [
       "<style scoped>\n",
       "  .ansiout {\n",
       "    display: block;\n",
       "    unicode-bidi: embed;\n",
       "    white-space: pre-wrap;\n",
       "    word-wrap: break-word;\n",
       "    word-break: break-all;\n",
       "    font-family: \"Source Code Pro\", \"Menlo\", monospace;;\n",
       "    font-size: 13px;\n",
       "    color: #555;\n",
       "    margin-left: 4px;\n",
       "    line-height: 19px;\n",
       "  }\n",
       "</style>\n",
       "<div class=\"ansiout\"></div>"
      ]
     },
     "metadata": {},
     "output_type": "display_data"
    }
   ],
   "source": [
    "#Analisando as correlações\n",
    "from pyspark.mllib.stat import Statistics"
   ]
  },
  {
   "cell_type": "code",
   "execution_count": 27,
   "metadata": {},
   "outputs": [
    {
     "data": {
      "text/html": [
       "<style scoped>\n",
       "  .ansiout {\n",
       "    display: block;\n",
       "    unicode-bidi: embed;\n",
       "    white-space: pre-wrap;\n",
       "    word-wrap: break-word;\n",
       "    word-break: break-all;\n",
       "    font-family: \"Source Code Pro\", \"Menlo\", monospace;;\n",
       "    font-size: 13px;\n",
       "    color: #555;\n",
       "    margin-left: 4px;\n",
       "    line-height: 19px;\n",
       "  }\n",
       "</style>\n",
       "<div class=\"ansiout\"></div>"
      ]
     },
     "metadata": {},
     "output_type": "display_data"
    }
   ],
   "source": [
    "rdd_1=data.select(\"Spending Score (1-100)\").rdd.flatMap(lambda x:x)  #utilizada para transforma das colunas do dataframe em colunas para serem empregadas na análise de correlaçoes\n",
    "rdd_2=data.select(\"Age\").rdd.flatMap(lambda x:x)"
   ]
  },
  {
   "cell_type": "code",
   "execution_count": 28,
   "metadata": {},
   "outputs": [
    {
     "data": {
      "text/html": [
       "<style scoped>\n",
       "  .ansiout {\n",
       "    display: block;\n",
       "    unicode-bidi: embed;\n",
       "    white-space: pre-wrap;\n",
       "    word-wrap: break-word;\n",
       "    word-break: break-all;\n",
       "    font-family: \"Source Code Pro\", \"Menlo\", monospace;;\n",
       "    font-size: 13px;\n",
       "    color: #555;\n",
       "    margin-left: 4px;\n",
       "    line-height: 19px;\n",
       "  }\n",
       "</style>\n",
       "<div class=\"ansiout\">Out[22]: -0.32722684603908925</div>"
      ]
     },
     "metadata": {},
     "output_type": "display_data"
    }
   ],
   "source": [
    "Statistics.corr(rdd_1,rdd_2,method=\"pearson\")  #definindo a coeficiente de correlação de pearson "
   ]
  },
  {
   "cell_type": "code",
   "execution_count": 29,
   "metadata": {},
   "outputs": [
    {
     "data": {
      "text/html": [
       "<style scoped>\n",
       "  .ansiout {\n",
       "    display: block;\n",
       "    unicode-bidi: embed;\n",
       "    white-space: pre-wrap;\n",
       "    word-wrap: break-word;\n",
       "    word-break: break-all;\n",
       "    font-family: \"Source Code Pro\", \"Menlo\", monospace;;\n",
       "    font-size: 13px;\n",
       "    color: #555;\n",
       "    margin-left: 4px;\n",
       "    line-height: 19px;\n",
       "  }\n",
       "</style>\n",
       "<div class=\"ansiout\">Out[23]: -0.01239804273606026</div>"
      ]
     },
     "metadata": {},
     "output_type": "display_data"
    }
   ],
   "source": [
    "data.stat.corr(\"Age\",\"Annual Income (k$)\",method=\"pearson\")"
   ]
  },
  {
   "cell_type": "markdown",
   "metadata": {},
   "source": [
    "Analisando a correlação por gênero"
   ]
  },
  {
   "cell_type": "code",
   "execution_count": 31,
   "metadata": {},
   "outputs": [
    {
     "data": {
      "text/html": [
       "<style scoped>\n",
       "  .ansiout {\n",
       "    display: block;\n",
       "    unicode-bidi: embed;\n",
       "    white-space: pre-wrap;\n",
       "    word-wrap: break-word;\n",
       "    word-break: break-all;\n",
       "    font-family: \"Source Code Pro\", \"Menlo\", monospace;;\n",
       "    font-size: 13px;\n",
       "    color: #555;\n",
       "    margin-left: 4px;\n",
       "    line-height: 19px;\n",
       "  }\n",
       "</style>\n",
       "<div class=\"ansiout\">+----------+-----+---+------------------+----------------------+\n",
       "CustomerID|Genre|Age|Annual Income (k$)|Spending Score (1-100)|\n",
       "+----------+-----+---+------------------+----------------------+\n",
       "         1| Male| 19|                15|                    39|\n",
       "         2| Male| 21|                15|                    81|\n",
       "         9| Male| 64|                19|                     3|\n",
       "        11| Male| 67|                19|                    14|\n",
       "        15| Male| 37|                20|                    13|\n",
       "        16| Male| 22|                20|                    79|\n",
       "        18| Male| 20|                21|                    66|\n",
       "        19| Male| 52|                23|                    29|\n",
       "        21| Male| 35|                24|                    35|\n",
       "        22| Male| 25|                24|                    73|\n",
       "        24| Male| 31|                25|                    73|\n",
       "        26| Male| 29|                28|                    82|\n",
       "        28| Male| 35|                28|                    61|\n",
       "        31| Male| 60|                30|                     4|\n",
       "        33| Male| 53|                33|                     4|\n",
       "        34| Male| 18|                33|                    92|\n",
       "        42| Male| 24|                38|                    92|\n",
       "        43| Male| 48|                39|                    36|\n",
       "        52| Male| 33|                42|                    60|\n",
       "        54| Male| 59|                43|                    60|\n",
       "+----------+-----+---+------------------+----------------------+\n",
       "only showing top 20 rows\n",
       "\n",
       "</div>"
      ]
     },
     "metadata": {},
     "output_type": "display_data"
    }
   ],
   "source": [
    "#Selecionando os homens\n",
    "homens=data[data.Genre=='Male']\n",
    "homens.show()"
   ]
  },
  {
   "cell_type": "code",
   "execution_count": 32,
   "metadata": {},
   "outputs": [
    {
     "data": {
      "text/html": [
       "<style scoped>\n",
       "  .ansiout {\n",
       "    display: block;\n",
       "    unicode-bidi: embed;\n",
       "    white-space: pre-wrap;\n",
       "    word-wrap: break-word;\n",
       "    word-break: break-all;\n",
       "    font-family: \"Source Code Pro\", \"Menlo\", monospace;;\n",
       "    font-size: 13px;\n",
       "    color: #555;\n",
       "    margin-left: 4px;\n",
       "    line-height: 19px;\n",
       "  }\n",
       "</style>\n",
       "<div class=\"ansiout\">+----------+------+---+------------------+----------------------+\n",
       "CustomerID| Genre|Age|Annual Income (k$)|Spending Score (1-100)|\n",
       "+----------+------+---+------------------+----------------------+\n",
       "         3|Female| 20|                16|                     6|\n",
       "         4|Female| 23|                16|                    77|\n",
       "         5|Female| 31|                17|                    40|\n",
       "         6|Female| 22|                17|                    76|\n",
       "         7|Female| 35|                18|                     6|\n",
       "         8|Female| 23|                18|                    94|\n",
       "        10|Female| 30|                19|                    72|\n",
       "        12|Female| 35|                19|                    99|\n",
       "        13|Female| 58|                20|                    15|\n",
       "        14|Female| 24|                20|                    77|\n",
       "        17|Female| 35|                21|                    35|\n",
       "        20|Female| 35|                23|                    98|\n",
       "        23|Female| 46|                25|                     5|\n",
       "        25|Female| 54|                28|                    14|\n",
       "        27|Female| 45|                28|                    32|\n",
       "        29|Female| 40|                29|                    31|\n",
       "        30|Female| 23|                29|                    87|\n",
       "        32|Female| 21|                30|                    73|\n",
       "        35|Female| 49|                33|                    14|\n",
       "        36|Female| 21|                33|                    81|\n",
       "+----------+------+---+------------------+----------------------+\n",
       "only showing top 20 rows\n",
       "\n",
       "</div>"
      ]
     },
     "metadata": {},
     "output_type": "display_data"
    }
   ],
   "source": [
    "#selecionando mulheres\n",
    "mulheres=data[data.Genre=='Female']\n",
    "mulheres.show()"
   ]
  },
  {
   "cell_type": "code",
   "execution_count": 33,
   "metadata": {},
   "outputs": [
    {
     "data": {
      "text/html": [
       "<style scoped>\n",
       "  .ansiout {\n",
       "    display: block;\n",
       "    unicode-bidi: embed;\n",
       "    white-space: pre-wrap;\n",
       "    word-wrap: break-word;\n",
       "    word-break: break-all;\n",
       "    font-family: \"Source Code Pro\", \"Menlo\", monospace;;\n",
       "    font-size: 13px;\n",
       "    color: #555;\n",
       "    margin-left: 4px;\n",
       "    line-height: 19px;\n",
       "  }\n",
       "</style>\n",
       "<div class=\"ansiout\">Out[26]: -0.27962764627493125</div>"
      ]
     },
     "metadata": {},
     "output_type": "display_data"
    }
   ],
   "source": [
    "#correlação entre Idade e o Salário Anual - Homens\n",
    "homens.stat.corr(\"Age\",\"Spending Score (1-100)\",method=\"pearson\")"
   ]
  },
  {
   "cell_type": "code",
   "execution_count": 34,
   "metadata": {},
   "outputs": [
    {
     "data": {
      "text/html": [
       "<style scoped>\n",
       "  .ansiout {\n",
       "    display: block;\n",
       "    unicode-bidi: embed;\n",
       "    white-space: pre-wrap;\n",
       "    word-wrap: break-word;\n",
       "    word-break: break-all;\n",
       "    font-family: \"Source Code Pro\", \"Menlo\", monospace;;\n",
       "    font-size: 13px;\n",
       "    color: #555;\n",
       "    margin-left: 4px;\n",
       "    line-height: 19px;\n",
       "  }\n",
       "</style>\n",
       "<div class=\"ansiout\">Out[27]: -0.3754385837780473</div>"
      ]
     },
     "metadata": {},
     "output_type": "display_data"
    }
   ],
   "source": [
    "#correlação entre Idade e o Salário Anual - Homens\n",
    "mulheres.stat.corr(\"Age\",\"Spending Score (1-100)\",method=\"pearson\")"
   ]
  },
  {
   "cell_type": "markdown",
   "metadata": {},
   "source": [
    "Aplicando o Kmeans"
   ]
  },
  {
   "cell_type": "code",
   "execution_count": 66,
   "metadata": {},
   "outputs": [],
   "source": [
    "from pyspark.ml.evaluation import ClusteringEvaluator  #biblioteca utilizada para a avaliação em cada um dos clusters\n",
    "from pyspark.ml.clustering import KMeans #biblioteca utilizada para a criação do modelo de clusterização utilizando o K-means"
   ]
  },
  {
   "cell_type": "code",
   "execution_count": 67,
   "metadata": {},
   "outputs": [
    {
     "name": "stdout",
     "output_type": "stream",
     "text": [
      "+----------+------+---+------------------+----------------------+-----------+\n",
      "|CustomerID| Genre|Age|Annual Income (k$)|Spending Score (1-100)|   features|\n",
      "+----------+------+---+------------------+----------------------+-----------+\n",
      "|         1|  Male| 19|                15|                    39|[39.0,15.0]|\n",
      "|         2|  Male| 21|                15|                    81|[81.0,15.0]|\n",
      "|         3|Female| 20|                16|                     6| [6.0,16.0]|\n",
      "|         4|Female| 23|                16|                    77|[77.0,16.0]|\n",
      "|         5|Female| 31|                17|                    40|[40.0,17.0]|\n",
      "|         6|Female| 22|                17|                    76|[76.0,17.0]|\n",
      "|         7|Female| 35|                18|                     6| [6.0,18.0]|\n",
      "|         8|Female| 23|                18|                    94|[94.0,18.0]|\n",
      "|         9|  Male| 64|                19|                     3| [3.0,19.0]|\n",
      "|        10|Female| 30|                19|                    72|[72.0,19.0]|\n",
      "|        11|  Male| 67|                19|                    14|[14.0,19.0]|\n",
      "|        12|Female| 35|                19|                    99|[99.0,19.0]|\n",
      "|        13|Female| 58|                20|                    15|[15.0,20.0]|\n",
      "|        14|Female| 24|                20|                    77|[77.0,20.0]|\n",
      "|        15|  Male| 37|                20|                    13|[13.0,20.0]|\n",
      "|        16|  Male| 22|                20|                    79|[79.0,20.0]|\n",
      "|        17|Female| 35|                21|                    35|[35.0,21.0]|\n",
      "|        18|  Male| 20|                21|                    66|[66.0,21.0]|\n",
      "|        19|  Male| 52|                23|                    29|[29.0,23.0]|\n",
      "|        20|Female| 35|                23|                    98|[98.0,23.0]|\n",
      "+----------+------+---+------------------+----------------------+-----------+\n",
      "only showing top 20 rows\n",
      "\n"
     ]
    }
   ],
   "source": [
    "from pyspark.ml.feature import VectorAssembler  #transformando os dados em vetores de características\n",
    "\n",
    "vecAssembler = VectorAssembler(inputCols=[\"Spending Score (1-100)\",\"Annual Income (k$)\"], outputCol=\"features\") #utilizada para transformar os dados em um vetor (define o objeto)\n",
    "new_df = vecAssembler.transform(data) #Aplico a transformação\n",
    "new_df.show()"
   ]
  },
  {
   "cell_type": "code",
   "execution_count": 68,
   "metadata": {},
   "outputs": [],
   "source": [
    "#aplica o processo de clusterização\n",
    "kmeans = KMeans(k=3, seed=1)  # declara o objeto - 3 clusters \n",
    "model = kmeans.fit(new_df.select('features')) #aplica o treinamento"
   ]
  },
  {
   "cell_type": "code",
   "execution_count": 69,
   "metadata": {},
   "outputs": [
    {
     "name": "stdout",
     "output_type": "stream",
     "text": [
      "+----------+------+---+------------------+----------------------+-----------+----------+\n",
      "|CustomerID| Genre|Age|Annual Income (k$)|Spending Score (1-100)|   features|prediction|\n",
      "+----------+------+---+------------------+----------------------+-----------+----------+\n",
      "|         1|  Male| 19|                15|                    39|[39.0,15.0]|         4|\n",
      "|         2|  Male| 21|                15|                    81|[81.0,15.0]|         2|\n",
      "|         3|Female| 20|                16|                     6| [6.0,16.0]|         4|\n",
      "|         4|Female| 23|                16|                    77|[77.0,16.0]|         2|\n",
      "|         5|Female| 31|                17|                    40|[40.0,17.0]|         4|\n",
      "|         6|Female| 22|                17|                    76|[76.0,17.0]|         2|\n",
      "|         7|Female| 35|                18|                     6| [6.0,18.0]|         4|\n",
      "|         8|Female| 23|                18|                    94|[94.0,18.0]|         2|\n",
      "|         9|  Male| 64|                19|                     3| [3.0,19.0]|         4|\n",
      "|        10|Female| 30|                19|                    72|[72.0,19.0]|         2|\n",
      "|        11|  Male| 67|                19|                    14|[14.0,19.0]|         4|\n",
      "|        12|Female| 35|                19|                    99|[99.0,19.0]|         2|\n",
      "|        13|Female| 58|                20|                    15|[15.0,20.0]|         4|\n",
      "|        14|Female| 24|                20|                    77|[77.0,20.0]|         2|\n",
      "|        15|  Male| 37|                20|                    13|[13.0,20.0]|         4|\n",
      "|        16|  Male| 22|                20|                    79|[79.0,20.0]|         2|\n",
      "|        17|Female| 35|                21|                    35|[35.0,21.0]|         4|\n",
      "|        18|  Male| 20|                21|                    66|[66.0,21.0]|         2|\n",
      "|        19|  Male| 52|                23|                    29|[29.0,23.0]|         4|\n",
      "|        20|Female| 35|                23|                    98|[98.0,23.0]|         2|\n",
      "+----------+------+---+------------------+----------------------+-----------+----------+\n",
      "only showing top 20 rows\n",
      "\n"
     ]
    }
   ],
   "source": [
    "#cria o dataset com a indicação sobre qual cluster cada conjunto de dados foi adicionado\n",
    "df_final = model.transform(new_df)\n",
    "df_final.show() "
   ]
  },
  {
   "cell_type": "code",
   "execution_count": 70,
   "metadata": {},
   "outputs": [
    {
     "name": "stdout",
     "output_type": "stream",
     "text": [
      "+-------+------------------+------+-----------------+------------------+----------------------+\n",
      "|summary|        CustomerID| Genre|              Age|Annual Income (k$)|Spending Score (1-100)|\n",
      "+-------+------------------+------+-----------------+------------------+----------------------+\n",
      "|  count|               200|   200|              200|               200|                   200|\n",
      "|   mean|             100.5|  null|            38.85|             60.56|                  50.2|\n",
      "| stddev|57.879184513951124|  null|13.96900733155888| 26.26472116527124|    25.823521668370173|\n",
      "|    min|                 1|Female|               18|                15|                     1|\n",
      "|    max|               200|  Male|               70|               137|                    99|\n",
      "+-------+------------------+------+-----------------+------------------+----------------------+\n",
      "\n"
     ]
    }
   ],
   "source": [
    "data.describe().show()"
   ]
  },
  {
   "cell_type": "code",
   "execution_count": 71,
   "metadata": {},
   "outputs": [
    {
     "name": "stdout",
     "output_type": "stream",
     "text": [
      "+----------+-----+\n",
      "|prediction|count|\n",
      "+----------+-----+\n",
      "|         1|   39|\n",
      "|         3|   81|\n",
      "|         4|   23|\n",
      "|         2|   22|\n",
      "|         0|   35|\n",
      "+----------+-----+\n",
      "\n"
     ]
    }
   ],
   "source": [
    "df_final.groupby('prediction').count().show()"
   ]
  },
  {
   "cell_type": "code",
   "execution_count": 72,
   "metadata": {},
   "outputs": [
    {
     "data": {
      "text/html": [
       "<div>\n",
       "<style scoped>\n",
       "    .dataframe tbody tr th:only-of-type {\n",
       "        vertical-align: middle;\n",
       "    }\n",
       "\n",
       "    .dataframe tbody tr th {\n",
       "        vertical-align: top;\n",
       "    }\n",
       "\n",
       "    .dataframe thead th {\n",
       "        text-align: right;\n",
       "    }\n",
       "</style>\n",
       "<table border=\"1\" class=\"dataframe\">\n",
       "  <thead>\n",
       "    <tr style=\"text-align: right;\">\n",
       "      <th></th>\n",
       "      <th>Genre</th>\n",
       "      <th>Age</th>\n",
       "      <th>Annual Income (k$)</th>\n",
       "      <th>Spending Score (1-100)</th>\n",
       "      <th>features</th>\n",
       "      <th>prediction</th>\n",
       "    </tr>\n",
       "    <tr>\n",
       "      <th>CustomerID</th>\n",
       "      <th></th>\n",
       "      <th></th>\n",
       "      <th></th>\n",
       "      <th></th>\n",
       "      <th></th>\n",
       "      <th></th>\n",
       "    </tr>\n",
       "  </thead>\n",
       "  <tbody>\n",
       "    <tr>\n",
       "      <th>1</th>\n",
       "      <td>Male</td>\n",
       "      <td>19</td>\n",
       "      <td>15</td>\n",
       "      <td>39</td>\n",
       "      <td>[39.0, 15.0]</td>\n",
       "      <td>4</td>\n",
       "    </tr>\n",
       "    <tr>\n",
       "      <th>2</th>\n",
       "      <td>Male</td>\n",
       "      <td>21</td>\n",
       "      <td>15</td>\n",
       "      <td>81</td>\n",
       "      <td>[81.0, 15.0]</td>\n",
       "      <td>2</td>\n",
       "    </tr>\n",
       "    <tr>\n",
       "      <th>3</th>\n",
       "      <td>Female</td>\n",
       "      <td>20</td>\n",
       "      <td>16</td>\n",
       "      <td>6</td>\n",
       "      <td>[6.0, 16.0]</td>\n",
       "      <td>4</td>\n",
       "    </tr>\n",
       "    <tr>\n",
       "      <th>4</th>\n",
       "      <td>Female</td>\n",
       "      <td>23</td>\n",
       "      <td>16</td>\n",
       "      <td>77</td>\n",
       "      <td>[77.0, 16.0]</td>\n",
       "      <td>2</td>\n",
       "    </tr>\n",
       "    <tr>\n",
       "      <th>5</th>\n",
       "      <td>Female</td>\n",
       "      <td>31</td>\n",
       "      <td>17</td>\n",
       "      <td>40</td>\n",
       "      <td>[40.0, 17.0]</td>\n",
       "      <td>4</td>\n",
       "    </tr>\n",
       "  </tbody>\n",
       "</table>\n",
       "</div>"
      ],
      "text/plain": [
       "             Genre  Age  ...      features  prediction\n",
       "CustomerID               ...                          \n",
       "1             Male   19  ...  [39.0, 15.0]           4\n",
       "2             Male   21  ...  [81.0, 15.0]           2\n",
       "3           Female   20  ...   [6.0, 16.0]           4\n",
       "4           Female   23  ...  [77.0, 16.0]           2\n",
       "5           Female   31  ...  [40.0, 17.0]           4\n",
       "\n",
       "[5 rows x 6 columns]"
      ]
     },
     "execution_count": 72,
     "metadata": {},
     "output_type": "execute_result"
    }
   ],
   "source": [
    "#transformando os dados utilizando o pandas \n",
    "data_pandas = df_final.toPandas().set_index('CustomerID')\n",
    "data_pandas.head()"
   ]
  },
  {
   "cell_type": "code",
   "execution_count": 73,
   "metadata": {},
   "outputs": [
    {
     "data": {
      "image/png": "[encoded data removed]",
      "text/plain": [
       "<Figure size 864x720 with 1 Axes>"
      ]
     },
     "metadata": {
      "needs_background": "light"
     },
     "output_type": "display_data"
    }
   ],
   "source": [
    "import matplotlib.pyplot as plt\n",
    "\n",
    "plt.figure(figsize=(12,10))\n",
    "plt.scatter(data_pandas['Annual Income (k$)'], data_pandas['Spending Score (1-100)'], c=data_pandas.prediction)\n",
    "plt.xlabel('Annual Income (k$)')\n",
    "plt.ylabel('Spending Score (1-100)')\n",
    "plt.show()"
   ]
  },
  {
   "cell_type": "code",
   "execution_count": null,
   "metadata": {},
   "outputs": [],
   "source": []
  }
 ],
 "metadata": {
  "kernelspec": {
   "display_name": "Python 3",
   "language": "python",
   "name": "python3"
  },
  "language_info": {
   "codemirror_mode": {
    "name": "ipython",
    "version": 3
   },
   "file_extension": ".py",
   "mimetype": "text/x-python",
   "name": "python",
   "nbconvert_exporter": "python",
   "pygments_lexer": "ipython3",
   "version": "3.8.5"
  },
  "name": "desafio_bootcamp_tpd",
  "notebookId": 3192514136504053
 },
 "nbformat": 4,
 "nbformat_minor": 4
}

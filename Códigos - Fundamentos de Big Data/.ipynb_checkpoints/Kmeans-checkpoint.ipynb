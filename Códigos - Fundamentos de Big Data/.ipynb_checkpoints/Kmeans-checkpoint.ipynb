{
 "cells": [
  {
   "cell_type": "code",
   "execution_count": 46,
   "metadata": {},
   "outputs": [],
   "source": [
    "import pandas as pd\n",
    "import numpy as np\n",
    "import plotly.express as px #Criação de Gráficos Dinâmicos\n",
    "import plotly.graph_objects as go # Para criaçao e concatenização dos gráficos\n",
    "from sklearn.preprocessing import StandardScaler #Normalização\n",
    "from sklearn.cluster import KMeans\n",
    "import matplotlib.pyplot as plt"
   ]
  },
  {
   "cell_type": "code",
   "execution_count": 36,
   "metadata": {},
   "outputs": [],
   "source": [
    "data = pd.read_csv(\"iris.csv\", names= [\"sepal_length\", \"sepal_width\", \"petal_length\", \"petal_width\", \"class\"], header=0)"
   ]
  },
  {
   "cell_type": "code",
   "execution_count": 37,
   "metadata": {},
   "outputs": [
    {
     "data": {
      "text/html": [
       "<div>\n",
       "<style scoped>\n",
       "    .dataframe tbody tr th:only-of-type {\n",
       "        vertical-align: middle;\n",
       "    }\n",
       "\n",
       "    .dataframe tbody tr th {\n",
       "        vertical-align: top;\n",
       "    }\n",
       "\n",
       "    .dataframe thead th {\n",
       "        text-align: right;\n",
       "    }\n",
       "</style>\n",
       "<table border=\"1\" class=\"dataframe\">\n",
       "  <thead>\n",
       "    <tr style=\"text-align: right;\">\n",
       "      <th></th>\n",
       "      <th>sepal_length</th>\n",
       "      <th>sepal_width</th>\n",
       "      <th>petal_length</th>\n",
       "      <th>petal_width</th>\n",
       "      <th>class</th>\n",
       "    </tr>\n",
       "  </thead>\n",
       "  <tbody>\n",
       "    <tr>\n",
       "      <th>0</th>\n",
       "      <td>4.9</td>\n",
       "      <td>3.0</td>\n",
       "      <td>1.4</td>\n",
       "      <td>0.2</td>\n",
       "      <td>setosa</td>\n",
       "    </tr>\n",
       "    <tr>\n",
       "      <th>1</th>\n",
       "      <td>4.7</td>\n",
       "      <td>3.2</td>\n",
       "      <td>1.3</td>\n",
       "      <td>0.2</td>\n",
       "      <td>setosa</td>\n",
       "    </tr>\n",
       "    <tr>\n",
       "      <th>2</th>\n",
       "      <td>4.6</td>\n",
       "      <td>3.1</td>\n",
       "      <td>1.5</td>\n",
       "      <td>0.2</td>\n",
       "      <td>setosa</td>\n",
       "    </tr>\n",
       "    <tr>\n",
       "      <th>3</th>\n",
       "      <td>5.0</td>\n",
       "      <td>3.6</td>\n",
       "      <td>1.4</td>\n",
       "      <td>0.2</td>\n",
       "      <td>setosa</td>\n",
       "    </tr>\n",
       "    <tr>\n",
       "      <th>4</th>\n",
       "      <td>5.4</td>\n",
       "      <td>3.9</td>\n",
       "      <td>1.7</td>\n",
       "      <td>0.4</td>\n",
       "      <td>setosa</td>\n",
       "    </tr>\n",
       "  </tbody>\n",
       "</table>\n",
       "</div>"
      ],
      "text/plain": [
       "   sepal_length  sepal_width  petal_length  petal_width   class\n",
       "0           4.9          3.0           1.4          0.2  setosa\n",
       "1           4.7          3.2           1.3          0.2  setosa\n",
       "2           4.6          3.1           1.5          0.2  setosa\n",
       "3           5.0          3.6           1.4          0.2  setosa\n",
       "4           5.4          3.9           1.7          0.4  setosa"
      ]
     },
     "execution_count": 37,
     "metadata": {},
     "output_type": "execute_result"
    }
   ],
   "source": [
    "data.head()"
   ]
  },
  {
   "cell_type": "code",
   "execution_count": 38,
   "metadata": {},
   "outputs": [
    {
     "data": {
      "text/plain": [
       "(149, 5)"
      ]
     },
     "execution_count": 38,
     "metadata": {},
     "output_type": "execute_result"
    }
   ],
   "source": [
    "data.shape"
   ]
  },
  {
   "cell_type": "code",
   "execution_count": 39,
   "metadata": {},
   "outputs": [
    {
     "data": {
      "text/plain": [
       "array(['setosa', 'versicolor', 'virginica'], dtype=object)"
      ]
     },
     "execution_count": 39,
     "metadata": {},
     "output_type": "execute_result"
    }
   ],
   "source": [
    "#Verificando as Classes\n",
    "data['class'].unique()"
   ]
  },
  {
   "cell_type": "code",
   "execution_count": 40,
   "metadata": {},
   "outputs": [
    {
     "data": {
      "text/plain": [
       "array([[1.4, 0.2],\n",
       "       [1.3, 0.2],\n",
       "       [1.5, 0.2],\n",
       "       [1.4, 0.2],\n",
       "       [1.7, 0.4],\n",
       "       [1.4, 0.3],\n",
       "       [1.5, 0.2],\n",
       "       [1.4, 0.2],\n",
       "       [1.5, 0.1],\n",
       "       [1.5, 0.2]])"
      ]
     },
     "execution_count": 40,
     "metadata": {},
     "output_type": "execute_result"
    }
   ],
   "source": [
    "#Criando uma variável X com as colunas 2 e 3\n",
    "X_petala = data.iloc[:,[2,3]].values\n",
    "X_petala[:10]"
   ]
  },
  {
   "cell_type": "code",
   "execution_count": 41,
   "metadata": {},
   "outputs": [
    {
     "data": {
      "text/plain": [
       "array([[-1.35396443, -1.32506301],\n",
       "       [-1.41098555, -1.32506301],\n",
       "       [-1.29694332, -1.32506301],\n",
       "       [-1.35396443, -1.32506301],\n",
       "       [-1.18290109, -1.0614657 ],\n",
       "       [-1.35396443, -1.19326436],\n",
       "       [-1.29694332, -1.32506301],\n",
       "       [-1.35396443, -1.32506301],\n",
       "       [-1.29694332, -1.45686167],\n",
       "       [-1.29694332, -1.32506301]])"
      ]
     },
     "execution_count": 41,
     "metadata": {},
     "output_type": "execute_result"
    }
   ],
   "source": [
    "#Normalizando os dados\n",
    "norm = StandardScaler()\n",
    "X_petala = norm.fit_transform(X_petala)\n",
    "X_petala[:10]"
   ]
  },
  {
   "cell_type": "code",
   "execution_count": 42,
   "metadata": {},
   "outputs": [],
   "source": [
    "#Calculando o número de Clusters (método do cotovelo)\n",
    "#WCSS é a soma da distância quadrada entre o ponto e o centróide em um Cluster\n",
    "\n",
    "wcss_petala = []\n",
    "for i in range(1, 11):\n",
    "    kmeans_petala = KMeans(n_clusters=i, random_state=0)\n",
    "    #Treinamento\n",
    "    kmeans_petala.fit(X_petala)\n",
    "    #Inertia contem o valor do WCSS\n",
    "    wcss_petala.append(kmeans_petala.inertia_)"
   ]
  },
  {
   "cell_type": "code",
   "execution_count": 43,
   "metadata": {},
   "outputs": [
    {
     "name": "stdout",
     "output_type": "stream",
     "text": [
      "Cluster: 0  - Valor do wcss: 297.99999999999994\n",
      "Cluster: 1  - Valor do wcss: 54.421083729790624\n",
      "Cluster: 2  - Valor do wcss: 18.136468961932987\n",
      "Cluster: 3  - Valor do wcss: 12.366974203501075\n",
      "Cluster: 4  - Valor do wcss: 9.224759966256439\n",
      "Cluster: 5  - Valor do wcss: 7.230207609726111\n",
      "Cluster: 6  - Valor do wcss: 6.069823625897391\n",
      "Cluster: 7  - Valor do wcss: 5.185459766884163\n",
      "Cluster: 8  - Valor do wcss: 4.434044848525859\n",
      "Cluster: 9  - Valor do wcss: 3.9285631308176736\n"
     ]
    }
   ],
   "source": [
    "#Visualizando os valores\n",
    "for i in range(len(wcss_petala)):\n",
    "    print(\"Cluster:\", i, \" - Valor do wcss:\", wcss_petala[i])"
   ]
  },
  {
   "cell_type": "code",
   "execution_count": 49,
   "metadata": {},
   "outputs": [
    {
     "data": {
      "image/png": "[encoded data removed]",
      "text/plain": [
       "<Figure size 432x288 with 1 Axes>"
      ]
     },
     "metadata": {
      "needs_background": "light"
     },
     "output_type": "display_data"
    }
   ],
   "source": [
    "plt.plot(range(1,11), wcss_petala)\n",
    "plt.show()"
   ]
  },
  {
   "cell_type": "code",
   "execution_count": null,
   "metadata": {},
   "outputs": [],
   "source": []
  },
  {
   "cell_type": "code",
   "execution_count": null,
   "metadata": {},
   "outputs": [],
   "source": []
  }
 ],
 "metadata": {
  "kernelspec": {
   "display_name": "Python 3",
   "language": "python",
   "name": "python3"
  },
  "language_info": {
   "codemirror_mode": {
    "name": "ipython",
    "version": 3
   },
   "file_extension": ".py",
   "mimetype": "text/x-python",
   "name": "python",
   "nbconvert_exporter": "python",
   "pygments_lexer": "ipython3",
   "version": "3.8.5"
  }
 },
 "nbformat": 4,
 "nbformat_minor": 4
}

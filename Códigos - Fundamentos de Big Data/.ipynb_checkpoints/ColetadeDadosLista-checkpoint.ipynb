{
 "cells": [
  {
   "cell_type": "code",
   "execution_count": 1,
   "metadata": {},
   "outputs": [],
   "source": [
    "import pandas as pd\n",
    "#Funções para SO\n",
    "import os"
   ]
  },
  {
   "cell_type": "code",
   "execution_count": 3,
   "metadata": {},
   "outputs": [],
   "source": [
    "path = \"data/Vendas/\""
   ]
  },
  {
   "cell_type": "code",
   "execution_count": 4,
   "metadata": {},
   "outputs": [],
   "source": [
    "lista_df = []\n",
    "lista_path = os.listdir(path)"
   ]
  },
  {
   "cell_type": "code",
   "execution_count": 6,
   "metadata": {},
   "outputs": [
    {
     "data": {
      "text/plain": [
       "['2020-01-12.csv', '2020-02-11.csv']"
      ]
     },
     "execution_count": 6,
     "metadata": {},
     "output_type": "execute_result"
    }
   ],
   "source": [
    "lista_path[:2]"
   ]
  },
  {
   "cell_type": "code",
   "execution_count": 7,
   "metadata": {},
   "outputs": [],
   "source": [
    "#Entra e add um por um em DF\n",
    "lista_df = []\n",
    "for arquivo in lista_path:\n",
    "    local_arquivo = os.path.join(path, arquivo)\n",
    "    df = pd.read_csv(local_arquivo, sep = ';', encoding='latin-1')\n",
    "    lista_df.append(df)\n",
    "df_vendas = pd.concat(lista_df)"
   ]
  },
  {
   "cell_type": "code",
   "execution_count": 8,
   "metadata": {},
   "outputs": [
    {
     "data": {
      "text/html": [
       "<div>\n",
       "<style scoped>\n",
       "    .dataframe tbody tr th:only-of-type {\n",
       "        vertical-align: middle;\n",
       "    }\n",
       "\n",
       "    .dataframe tbody tr th {\n",
       "        vertical-align: top;\n",
       "    }\n",
       "\n",
       "    .dataframe thead th {\n",
       "        text-align: right;\n",
       "    }\n",
       "</style>\n",
       "<table border=\"1\" class=\"dataframe\">\n",
       "  <thead>\n",
       "    <tr style=\"text-align: right;\">\n",
       "      <th></th>\n",
       "      <th>cod_pessoa</th>\n",
       "      <th>nome</th>\n",
       "      <th>genero</th>\n",
       "      <th>data_nascimento</th>\n",
       "      <th>data_compra</th>\n",
       "      <th>fabricante</th>\n",
       "      <th>modelo</th>\n",
       "      <th>valor</th>\n",
       "    </tr>\n",
       "  </thead>\n",
       "  <tbody>\n",
       "    <tr>\n",
       "      <th>0</th>\n",
       "      <td>1016</td>\n",
       "      <td>Maria Clara</td>\n",
       "      <td>Feminino</td>\n",
       "      <td>1986-11-21</td>\n",
       "      <td>2020-01-12</td>\n",
       "      <td>Fiat</td>\n",
       "      <td>Uno Attractive 1.0</td>\n",
       "      <td>50004</td>\n",
       "    </tr>\n",
       "    <tr>\n",
       "      <th>0</th>\n",
       "      <td>1061</td>\n",
       "      <td>Bianca</td>\n",
       "      <td>Feminino</td>\n",
       "      <td>1989-02-21</td>\n",
       "      <td>2020-02-11</td>\n",
       "      <td>Fiat</td>\n",
       "      <td>Mobi Easy 1.5</td>\n",
       "      <td>40449</td>\n",
       "    </tr>\n",
       "    <tr>\n",
       "      <th>1</th>\n",
       "      <td>1086</td>\n",
       "      <td>Analu</td>\n",
       "      <td>Feminino</td>\n",
       "      <td>1977-08-05</td>\n",
       "      <td>2020-02-11</td>\n",
       "      <td>Volkswagen</td>\n",
       "      <td>Fox Connect 1.6</td>\n",
       "      <td>57640</td>\n",
       "    </tr>\n",
       "    <tr>\n",
       "      <th>2</th>\n",
       "      <td>1117</td>\n",
       "      <td>Samuel</td>\n",
       "      <td>Masculino</td>\n",
       "      <td>1989-11-22</td>\n",
       "      <td>2020-02-11</td>\n",
       "      <td>Fiat</td>\n",
       "      <td>Uno Attractive 1.0</td>\n",
       "      <td>50004</td>\n",
       "    </tr>\n",
       "    <tr>\n",
       "      <th>3</th>\n",
       "      <td>1139</td>\n",
       "      <td>Cauã</td>\n",
       "      <td>Masculino</td>\n",
       "      <td>1961-09-14</td>\n",
       "      <td>2020-02-11</td>\n",
       "      <td>Lifan</td>\n",
       "      <td>530 Talent 1.5</td>\n",
       "      <td>43990</td>\n",
       "    </tr>\n",
       "    <tr>\n",
       "      <th>0</th>\n",
       "      <td>1118</td>\n",
       "      <td>Enzo Gabriel</td>\n",
       "      <td>Masculino</td>\n",
       "      <td>1984-02-15</td>\n",
       "      <td>2020-02-12</td>\n",
       "      <td>Ford</td>\n",
       "      <td>Ka S 1.0</td>\n",
       "      <td>51990</td>\n",
       "    </tr>\n",
       "    <tr>\n",
       "      <th>0</th>\n",
       "      <td>1048</td>\n",
       "      <td>Maria-</td>\n",
       "      <td>Feminino</td>\n",
       "      <td>1992-09-18</td>\n",
       "      <td>2020-03-11</td>\n",
       "      <td>Hyndai</td>\n",
       "      <td>Hyundai HB20 1.0 Sense</td>\n",
       "      <td>49590</td>\n",
       "    </tr>\n",
       "    <tr>\n",
       "      <th>1</th>\n",
       "      <td>1050</td>\n",
       "      <td>Ana Laura</td>\n",
       "      <td>Feminino</td>\n",
       "      <td>1997-10-15</td>\n",
       "      <td>2020-03-11</td>\n",
       "      <td>Hyndai</td>\n",
       "      <td>Hyundai HB20 1.0 Sense</td>\n",
       "      <td>49590</td>\n",
       "    </tr>\n",
       "    <tr>\n",
       "      <th>2</th>\n",
       "      <td>1075</td>\n",
       "      <td>Mariah</td>\n",
       "      <td>Feminino</td>\n",
       "      <td>1969-11-05</td>\n",
       "      <td>2020-03-11</td>\n",
       "      <td>Volkswagen</td>\n",
       "      <td>Gol 1.0</td>\n",
       "      <td>54150</td>\n",
       "    </tr>\n",
       "    <tr>\n",
       "      <th>3</th>\n",
       "      <td>1092</td>\n",
       "      <td>Ana Vitória</td>\n",
       "      <td>Feminino</td>\n",
       "      <td>1963-12-05</td>\n",
       "      <td>2020-03-11</td>\n",
       "      <td>Hyndai</td>\n",
       "      <td>Hyundai HB20 1.0 Sense</td>\n",
       "      <td>49590</td>\n",
       "    </tr>\n",
       "  </tbody>\n",
       "</table>\n",
       "</div>"
      ],
      "text/plain": [
       "   cod_pessoa          nome     genero data_nascimento data_compra  \\\n",
       "0        1016   Maria Clara   Feminino      1986-11-21  2020-01-12   \n",
       "0        1061        Bianca   Feminino      1989-02-21  2020-02-11   \n",
       "1        1086         Analu   Feminino      1977-08-05  2020-02-11   \n",
       "2        1117        Samuel  Masculino      1989-11-22  2020-02-11   \n",
       "3        1139          Cauã  Masculino      1961-09-14  2020-02-11   \n",
       "0        1118  Enzo Gabriel  Masculino      1984-02-15  2020-02-12   \n",
       "0        1048        Maria-   Feminino      1992-09-18  2020-03-11   \n",
       "1        1050     Ana Laura   Feminino      1997-10-15  2020-03-11   \n",
       "2        1075        Mariah   Feminino      1969-11-05  2020-03-11   \n",
       "3        1092   Ana Vitória   Feminino      1963-12-05  2020-03-11   \n",
       "\n",
       "   fabricante                  modelo  valor  \n",
       "0        Fiat      Uno Attractive 1.0  50004  \n",
       "0        Fiat           Mobi Easy 1.5  40449  \n",
       "1  Volkswagen         Fox Connect 1.6  57640  \n",
       "2        Fiat      Uno Attractive 1.0  50004  \n",
       "3       Lifan          530 Talent 1.5  43990  \n",
       "0        Ford                Ka S 1.0  51990  \n",
       "0      Hyndai  Hyundai HB20 1.0 Sense  49590  \n",
       "1      Hyndai  Hyundai HB20 1.0 Sense  49590  \n",
       "2  Volkswagen                 Gol 1.0  54150  \n",
       "3      Hyndai  Hyundai HB20 1.0 Sense  49590  "
      ]
     },
     "execution_count": 8,
     "metadata": {},
     "output_type": "execute_result"
    }
   ],
   "source": [
    "df_vendas[:10]"
   ]
  },
  {
   "cell_type": "code",
   "execution_count": 10,
   "metadata": {},
   "outputs": [],
   "source": [
    "df_vendas.to_csv(path + 'vendas_por_data.csv', sep=';', encoding='latin-1', index=False)"
   ]
  },
  {
   "cell_type": "code",
   "execution_count": null,
   "metadata": {},
   "outputs": [],
   "source": []
  }
 ],
 "metadata": {
  "kernelspec": {
   "display_name": "Python 3",
   "language": "python",
   "name": "python3"
  },
  "language_info": {
   "codemirror_mode": {
    "name": "ipython",
    "version": 3
   },
   "file_extension": ".py",
   "mimetype": "text/x-python",
   "name": "python",
   "nbconvert_exporter": "python",
   "pygments_lexer": "ipython3",
   "version": "3.8.5"
  }
 },
 "nbformat": 4,
 "nbformat_minor": 4
}
